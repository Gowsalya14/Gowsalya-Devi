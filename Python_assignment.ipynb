{
  "nbformat": 4,
  "nbformat_minor": 0,
  "metadata": {
    "colab": {
      "provenance": [],
      "include_colab_link": true
    },
    "kernelspec": {
      "name": "python3",
      "display_name": "Python 3"
    },
    "language_info": {
      "name": "python"
    }
  },
  "cells": [
    {
      "cell_type": "markdown",
      "metadata": {
        "id": "view-in-github",
        "colab_type": "text"
      },
      "source": [
        "<a href=\"https://colab.research.google.com/github/Gowsalya14/Gowsalya-Devi/blob/main/Python_assignment.ipynb\" target=\"_parent\"><img src=\"https://colab.research.google.com/assets/colab-badge.svg\" alt=\"Open In Colab\"/></a>"
      ]
    },
    {
      "cell_type": "code",
      "execution_count": null,
      "metadata": {
        "colab": {
          "base_uri": "https://localhost:8080/"
        },
        "id": "v4v0ZzLOfEbr",
        "outputId": "0948f7a4-f987-4102-90d6-549762b3b1d4"
      },
      "outputs": [
        {
          "output_type": "stream",
          "name": "stdout",
          "text": [
            "Positive comments:\n",
            "He is a good boy\n",
            "He is an awesome player\n",
            "She is the best\n",
            "These burger are really nice\n",
            "\n",
            "Negative comments:\n",
            "Food is the worst here\n",
            "This pizza tastes awful\n"
          ]
        }
      ],
      "source": [
        "positive = ['good','awesome', 'best', 'nice']\n",
        "negative = ['worst','awful']\n",
        "comments = ['He is a good boy','Food is the worst here','He is an awesome player','She is the best','This pizza tastes awful','These burger are really nice']\n",
        "\n",
        "positive_comments = []\n",
        "negative_comments = []\n",
        "\n",
        "for comment in comments:\n",
        "  for word in positive:\n",
        "    if word in comment.lower():\n",
        "      positive_comments.append(comment)\n",
        "      break\n",
        "  for word in negative:\n",
        "    if word in comment.lower():\n",
        "      negative_comments.append(comment)\n",
        "      break\n",
        "\n",
        "print(\"Positive comments:\")\n",
        "print(*positive_comments, sep='\\n')\n",
        "print(\"\\nNegative comments:\")\n",
        "print(*negative_comments, sep='\\n')\n"
      ]
    },
    {
      "cell_type": "code",
      "source": [
        "def addi(n):\n",
        "    d = { 'Square': lambda a : a**2, \n",
        "         'Cube': lambda a : a**3, \n",
        "         'Squareroot': lambda a : a**(1/2), \n",
        "         'Double': lambda a : a*2}\n",
        "    sum = 0\n",
        "    for key in d.keys():\n",
        "        sum += d[key](n)\n",
        "    return sum\n",
        "    \n",
        "print(addi(5))\n"
      ],
      "metadata": {
        "colab": {
          "base_uri": "https://localhost:8080/"
        },
        "id": "J9y9Cq5RfdIv",
        "outputId": "a88c86eb-be55-4990-d0ee-5b459a1e8edd"
      },
      "execution_count": null,
      "outputs": [
        {
          "output_type": "stream",
          "name": "stdout",
          "text": [
            "162.2360679774998\n"
          ]
        }
      ]
    },
    {
      "cell_type": "code",
      "source": [
        "fruits = (('Lemon','sour'),\n",
        "('DragonFruit', 'Sweet'),\n",
        "('Grapes','soUr'),\n",
        "('Kiwi','Sour'),\n",
        "('Apples','sweet'),\n",
        "('Orange','sour'),\n",
        "('Blueberries','sweet'),\n",
        "('Limes','Sour')\n",
        ")\n",
        "\n",
        "sour_fruits = []\n",
        "\n",
        "for fruit in fruits:\n",
        "  if fruit[1].lower() == 'sour':\n",
        "    sour_fruits.append(fruit[0])\n",
        "\n",
        "print(\"Sour fruits:\")\n",
        "print(*sour_fruits, sep=', ')\n"
      ],
      "metadata": {
        "colab": {
          "base_uri": "https://localhost:8080/"
        },
        "id": "pt_PAMq9fg1v",
        "outputId": "fb163098-e18b-4fd1-f6e0-a3159210b7f2"
      },
      "execution_count": null,
      "outputs": [
        {
          "output_type": "stream",
          "name": "stdout",
          "text": [
            "Sour fruits:\n",
            "Lemon, Grapes, Kiwi, Orange, Limes\n"
          ]
        }
      ]
    },
    {
      "cell_type": "code",
      "source": [
        "ls = ['hello', 'Dear', 'hOw', 'ARe', 'You']\n",
        "\n",
        "result = []\n",
        "\n",
        "for word in ls:\n",
        "  if len(word) > 1 and word[1].isupper():\n",
        "    result.append(word)\n",
        "\n",
        "print(result)\n"
      ],
      "metadata": {
        "colab": {
          "base_uri": "https://localhost:8080/"
        },
        "id": "7yz8odQEfgtf",
        "outputId": "d4a4d535-b714-48f2-ebed-fba86bbc5a83"
      },
      "execution_count": null,
      "outputs": [
        {
          "output_type": "stream",
          "name": "stdout",
          "text": [
            "['hOw', 'ARe']\n"
          ]
        }
      ]
    },
    {
      "cell_type": "code",
      "source": [
        "WeightOnEarth = {'John':45, 'Shelly':65, 'Marry':35}\n",
        "\n",
        "GMoon = 1.622\n",
        "\n",
        "GEarth = 9.81\n",
        "\n",
        "\n",
        "WeightOnMoon = dict(map(lambda x: (x[0], (x[1]*GMoon)/GEarth), WeightOnEarth.items()))\n",
        "\n",
        "print(\"Weight on Moon:\", WeightOnMoon)\n"
      ],
      "metadata": {
        "colab": {
          "base_uri": "https://localhost:8080/"
        },
        "id": "kYdTDM31fn9c",
        "outputId": "bef289da-9ec4-4347-fb26-05dba7c57359"
      },
      "execution_count": null,
      "outputs": [
        {
          "output_type": "stream",
          "name": "stdout",
          "text": [
            "Weight on Moon: {'John': 7.440366972477065, 'Shelly': 10.747196738022426, 'Marry': 5.786952089704383}\n"
          ]
        }
      ]
    },
    {
      "cell_type": "code",
      "source": [
        "namesList = ['santa Maria', 'Hello World','Merry christmas', 'tHank You']\n",
        "\n",
        "result = []\n",
        "\n",
        "for name in namesList:\n",
        "  words = name.split()\n",
        "  for word in words:\n",
        "    if word[0].isupper():\n",
        "      result.append(word)\n",
        "\n",
        "print(result)\n"
      ],
      "metadata": {
        "colab": {
          "base_uri": "https://localhost:8080/"
        },
        "id": "Nwe6ZKlnfrkM",
        "outputId": "fe5fb1a0-9624-49c7-d253-a13415f675fe"
      },
      "execution_count": null,
      "outputs": [
        {
          "output_type": "stream",
          "name": "stdout",
          "text": [
            "['Maria', 'Hello', 'World', 'Merry', 'You']\n"
          ]
        }
      ]
    },
    {
      "cell_type": "code",
      "source": [
        "from functools import reduce\n",
        "\n",
        "given_sets = [[1, 2, 3, 4, 8], [2, 3, 8, 5, 6], [8, 4, 5, 3, 7], [6, 9, 8, 3], [9, 12, 3, 7, 6, 8, 4, 6, 21, 1, 6]]\n",
        "\n",
        "sets = [set(x) for x in given_sets]\n",
        "\n",
        "result = reduce(lambda a, b: a & b, sets)\n",
        "\n",
        "print(result)\n",
        "\n"
      ],
      "metadata": {
        "colab": {
          "base_uri": "https://localhost:8080/"
        },
        "id": "Y6Z8Q_ZyfwFs",
        "outputId": "a70c577d-585e-4c66-d60e-a9a9cb8ec34f"
      },
      "execution_count": null,
      "outputs": [
        {
          "output_type": "stream",
          "name": "stdout",
          "text": [
            "{8, 3}\n"
          ]
        }
      ]
    },
    {
      "cell_type": "code",
      "source": [
        "from itertools import accumulate\n",
        "\n",
        "lst = [9, 5, 7, 8, 5]\n",
        "\n",
        "cumulative_avg = list(accumulate(lst, lambda x, y: (x + y) / 2))\n",
        "\n",
        "print(cumulative_avg)\n"
      ],
      "metadata": {
        "colab": {
          "base_uri": "https://localhost:8080/"
        },
        "id": "PNufK7vAf1dD",
        "outputId": "56fc7266-7665-4354-a49b-44d1c6249755"
      },
      "execution_count": null,
      "outputs": [
        {
          "output_type": "stream",
          "name": "stdout",
          "text": [
            "[9, 7.0, 7.0, 7.5, 6.25]\n"
          ]
        }
      ]
    },
    {
      "cell_type": "code",
      "source": [
        "lsbool = ['True','FALse','tRUe','tRue','False','faLse']\n",
        "\n",
        "result = list(map(lambda x: x.upper(), lsbool))\n",
        "\n",
        "print(result)\n"
      ],
      "metadata": {
        "colab": {
          "base_uri": "https://localhost:8080/"
        },
        "id": "esDxP5g6f24d",
        "outputId": "67105f87-989d-4bd9-eedc-6abfc630847b"
      },
      "execution_count": null,
      "outputs": [
        {
          "output_type": "stream",
          "name": "stdout",
          "text": [
            "['TRUE', 'FALSE', 'TRUE', 'TRUE', 'FALSE', 'FALSE']\n"
          ]
        }
      ]
    },
    {
      "cell_type": "code",
      "source": [
        "datesList = ['17-12-1997','22-04-2011','01-05-1993','19-06-2020']\n",
        "\n",
        "years = [date.split('-')[2] for date in datesList]\n",
        "\n",
        "print(years)\n"
      ],
      "metadata": {
        "colab": {
          "base_uri": "https://localhost:8080/"
        },
        "id": "1hGET-Pwf5xW",
        "outputId": "5c2b2392-f52c-46a6-c7a8-6fe068db8d2b"
      },
      "execution_count": null,
      "outputs": [
        {
          "output_type": "stream",
          "name": "stdout",
          "text": [
            "['1997', '2011', '1993', '2020']\n"
          ]
        }
      ]
    }
  ]
}